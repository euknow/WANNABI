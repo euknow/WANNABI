{
 "cells": [
  {
   "cell_type": "code",
   "execution_count": 1,
   "id": "4eaf8700",
   "metadata": {
    "ExecuteTime": {
     "end_time": "2023-04-15T02:51:47.876335Z",
     "start_time": "2023-04-15T02:51:47.602486Z"
    }
   },
   "outputs": [],
   "source": [
    "import numpy as np"
   ]
  },
  {
   "cell_type": "code",
   "execution_count": 8,
   "id": "80214422",
   "metadata": {
    "ExecuteTime": {
     "end_time": "2023-04-15T02:55:43.887816Z",
     "start_time": "2023-04-15T02:55:43.868869Z"
    }
   },
   "outputs": [
    {
     "data": {
      "text/plain": [
       "()"
      ]
     },
     "execution_count": 8,
     "metadata": {},
     "output_type": "execute_result"
    }
   ],
   "source": [
    "# vector\n",
    "a = np.array(3)\n",
    "a.shape"
   ]
  },
  {
   "cell_type": "code",
   "execution_count": 9,
   "id": "d96a2a5f",
   "metadata": {
    "ExecuteTime": {
     "end_time": "2023-04-15T02:55:54.414749Z",
     "start_time": "2023-04-15T02:55:54.396494Z"
    }
   },
   "outputs": [
    {
     "data": {
      "text/plain": [
       "(5,)"
      ]
     },
     "execution_count": 9,
     "metadata": {},
     "output_type": "execute_result"
    }
   ],
   "source": [
    "# vector\n",
    "b = np.array([1,2,3,4,5])\n",
    "b.shape"
   ]
  },
  {
   "cell_type": "code",
   "execution_count": 11,
   "id": "558b46aa",
   "metadata": {
    "ExecuteTime": {
     "end_time": "2023-04-15T02:56:12.931331Z",
     "start_time": "2023-04-15T02:56:12.907496Z"
    }
   },
   "outputs": [
    {
     "name": "stdout",
     "output_type": "stream",
     "text": [
      "(3, 5)\n"
     ]
    },
    {
     "data": {
      "text/plain": [
       "array([[1, 2, 3, 4, 5],\n",
       "       [1, 2, 3, 4, 5],\n",
       "       [1, 2, 3, 4, 5]])"
      ]
     },
     "execution_count": 11,
     "metadata": {},
     "output_type": "execute_result"
    }
   ],
   "source": [
    "# matrix\n",
    "c = np.array([[1,2,3,4,5],[1,2,3,4,5],[1,2,3,4,5]])\n",
    "print(c.shape)\n",
    "c"
   ]
  },
  {
   "cell_type": "code",
   "execution_count": 12,
   "id": "4dc10d04",
   "metadata": {
    "ExecuteTime": {
     "end_time": "2023-04-15T02:56:24.061723Z",
     "start_time": "2023-04-15T02:56:24.032835Z"
    }
   },
   "outputs": [
    {
     "name": "stdout",
     "output_type": "stream",
     "text": [
      "(3, 3, 5)\n"
     ]
    },
    {
     "data": {
      "text/plain": [
       "array([[[1, 2, 3, 4, 5],\n",
       "        [1, 2, 3, 4, 5],\n",
       "        [1, 2, 3, 4, 5]],\n",
       "\n",
       "       [[1, 2, 3, 4, 5],\n",
       "        [1, 2, 3, 4, 5],\n",
       "        [1, 2, 3, 4, 5]],\n",
       "\n",
       "       [[1, 2, 3, 4, 5],\n",
       "        [1, 2, 3, 4, 5],\n",
       "        [1, 2, 3, 4, 5]]])"
      ]
     },
     "execution_count": 12,
     "metadata": {},
     "output_type": "execute_result"
    }
   ],
   "source": [
    "# tensor\n",
    "d = np.array([[[1,2,3,4,5],[1,2,3,4,5],[1,2,3,4,5]],\n",
    "         [[1,2,3,4,5],[1,2,3,4,5],[1,2,3,4,5]],\n",
    "         [[1,2,3,4,5],[1,2,3,4,5],[1,2,3,4,5]]])\n",
    "print(d.shape)\n",
    "d"
   ]
  },
  {
   "cell_type": "code",
   "execution_count": 17,
   "id": "75bd73b7",
   "metadata": {
    "ExecuteTime": {
     "end_time": "2023-04-15T03:00:13.662395Z",
     "start_time": "2023-04-15T03:00:13.639940Z"
    }
   },
   "outputs": [
    {
     "data": {
      "text/plain": [
       "(array([[1, 2, 3, 4, 5],\n",
       "        [1, 2, 3, 4, 5],\n",
       "        [1, 2, 3, 4, 5]]),\n",
       " array([[1, 2, 3, 4, 5],\n",
       "        [1, 2, 3, 4, 5],\n",
       "        [1, 2, 3, 4, 5]]),\n",
       " array([[1, 2, 3, 4, 5],\n",
       "        [1, 2, 3, 4, 5],\n",
       "        [1, 2, 3, 4, 5]]))"
      ]
     },
     "execution_count": 17,
     "metadata": {},
     "output_type": "execute_result"
    }
   ],
   "source": [
    "d[0], d[1], d[2]"
   ]
  },
  {
   "cell_type": "code",
   "execution_count": 19,
   "id": "6a4402e7",
   "metadata": {
    "ExecuteTime": {
     "end_time": "2023-04-15T03:00:34.870703Z",
     "start_time": "2023-04-15T03:00:34.848563Z"
    }
   },
   "outputs": [
    {
     "data": {
      "text/plain": [
       "3"
      ]
     },
     "execution_count": 19,
     "metadata": {},
     "output_type": "execute_result"
    }
   ],
   "source": [
    "d[0,1,2]"
   ]
  },
  {
   "cell_type": "code",
   "execution_count": 21,
   "id": "6776ec1a",
   "metadata": {
    "ExecuteTime": {
     "end_time": "2023-04-15T03:01:16.601190Z",
     "start_time": "2023-04-15T03:01:16.580850Z"
    }
   },
   "outputs": [
    {
     "data": {
      "text/plain": [
       "array([[ 1,  2,  3,  4,  5,  6,  7,  8,  9, 10],\n",
       "       [11, 12, 13, 14, 15, 16, 17, 18, 19, 20],\n",
       "       [21, 22, 23, 24, 25, 26, 27, 28, 29, 30],\n",
       "       [31, 32, 33, 34, 35, 36, 37, 38, 39, 40],\n",
       "       [41, 42, 43, 44, 45, 46, 47, 48, 49, 50]])"
      ]
     },
     "execution_count": 21,
     "metadata": {},
     "output_type": "execute_result"
    }
   ],
   "source": [
    "np.arange(1,51).reshape(5,-1)"
   ]
  },
  {
   "cell_type": "code",
   "execution_count": 23,
   "id": "33457d85",
   "metadata": {
    "ExecuteTime": {
     "end_time": "2023-04-15T03:01:54.842231Z",
     "start_time": "2023-04-15T03:01:54.825740Z"
    }
   },
   "outputs": [
    {
     "data": {
      "text/plain": [
       "array([1. , 1.9, 2.8, 3.7, 4.6, 5.5, 6.4, 7.3, 8.2, 9.1])"
      ]
     },
     "execution_count": 23,
     "metadata": {},
     "output_type": "execute_result"
    }
   ],
   "source": [
    "# (start, end, 갯수)\n",
    "np.linspace(1,10,10, endpoint=False) # endpoint=False 이면 end값을 포함하지 않는다."
   ]
  },
  {
   "cell_type": "code",
   "execution_count": 24,
   "id": "520bf161",
   "metadata": {
    "ExecuteTime": {
     "end_time": "2023-04-15T03:02:59.470273Z",
     "start_time": "2023-04-15T03:02:59.458122Z"
    }
   },
   "outputs": [
    {
     "data": {
      "text/plain": [
       "array([1.e-04, 1.e-03, 1.e-02, 1.e-01, 1.e+00, 1.e+01, 1.e+02, 1.e+03])"
      ]
     },
     "execution_count": 24,
     "metadata": {},
     "output_type": "execute_result"
    }
   ],
   "source": [
    "np.logspace(-4, 3, 8)"
   ]
  },
  {
   "cell_type": "code",
   "execution_count": 29,
   "id": "e56c6542",
   "metadata": {
    "ExecuteTime": {
     "end_time": "2023-04-15T03:05:04.493624Z",
     "start_time": "2023-04-15T03:05:04.479082Z"
    }
   },
   "outputs": [
    {
     "data": {
      "text/plain": [
       "array([[0.94967951, 0.39790575, 0.61036767, 0.49895934, 0.00731536],\n",
       "       [0.86636144, 0.4972434 , 0.48155319, 0.96800102, 0.79906495],\n",
       "       [0.16444402, 0.03016801, 0.14760759, 0.47507796, 0.43792968],\n",
       "       [0.82624315, 0.2661846 , 0.56260544, 0.62752389, 0.57061552],\n",
       "       [0.75465718, 0.27859052, 0.18810992, 0.74831079, 0.13450697]])"
      ]
     },
     "execution_count": 29,
     "metadata": {},
     "output_type": "execute_result"
    }
   ],
   "source": [
    "# shape\n",
    "np.random.rand(5,5)"
   ]
  },
  {
   "cell_type": "code",
   "execution_count": 33,
   "id": "96db7c28",
   "metadata": {
    "ExecuteTime": {
     "end_time": "2023-04-15T03:06:24.496356Z",
     "start_time": "2023-04-15T03:06:24.481354Z"
    }
   },
   "outputs": [
    {
     "data": {
      "text/plain": [
       "array([[ 0.10096359,  0.34164321,  0.40037836],\n",
       "       [-2.1301484 , -0.65070175, -0.0359969 ],\n",
       "       [-0.67648009,  0.12339471,  2.35405334]])"
      ]
     },
     "execution_count": 33,
     "metadata": {},
     "output_type": "execute_result"
    }
   ],
   "source": [
    "np.random.randn(3,3)"
   ]
  },
  {
   "cell_type": "code",
   "execution_count": 30,
   "id": "19dcdf74",
   "metadata": {
    "ExecuteTime": {
     "end_time": "2023-04-15T03:05:47.643352Z",
     "start_time": "2023-04-15T03:05:47.622593Z"
    }
   },
   "outputs": [
    {
     "data": {
      "text/plain": [
       "array([[2, 9, 4],\n",
       "       [8, 6, 9],\n",
       "       [1, 4, 4]])"
      ]
     },
     "execution_count": 30,
     "metadata": {},
     "output_type": "execute_result"
    }
   ],
   "source": [
    "# start, end, shape\n",
    "np.random.randint(1, 10, (3,3))"
   ]
  },
  {
   "cell_type": "code",
   "execution_count": 35,
   "id": "1c8d23f2",
   "metadata": {
    "ExecuteTime": {
     "end_time": "2023-04-15T03:07:32.466263Z",
     "start_time": "2023-04-15T03:07:32.442166Z"
    }
   },
   "outputs": [
    {
     "data": {
      "text/plain": [
       "array([[1.83984348, 8.34926013, 2.531413  ],\n",
       "       [6.88697841, 2.47956174, 6.05722553],\n",
       "       [8.7075255 , 4.87602643, 1.76955139]])"
      ]
     },
     "execution_count": 35,
     "metadata": {},
     "output_type": "execute_result"
    }
   ],
   "source": [
    "np.random.uniform(1, 10, (3,3))"
   ]
  },
  {
   "cell_type": "code",
   "execution_count": 44,
   "id": "98972ab7",
   "metadata": {
    "ExecuteTime": {
     "end_time": "2023-04-15T03:12:13.489069Z",
     "start_time": "2023-04-15T03:12:13.469428Z"
    }
   },
   "outputs": [],
   "source": [
    "a = np.arange(1,11)"
   ]
  },
  {
   "cell_type": "code",
   "execution_count": 45,
   "id": "f609311a",
   "metadata": {
    "ExecuteTime": {
     "end_time": "2023-04-15T03:12:17.181224Z",
     "start_time": "2023-04-15T03:12:17.163860Z"
    }
   },
   "outputs": [
    {
     "data": {
      "text/plain": [
       "(10,)"
      ]
     },
     "execution_count": 45,
     "metadata": {},
     "output_type": "execute_result"
    }
   ],
   "source": [
    "a.shape"
   ]
  },
  {
   "cell_type": "code",
   "execution_count": 46,
   "id": "6c73726e",
   "metadata": {
    "ExecuteTime": {
     "end_time": "2023-04-15T03:12:32.207362Z",
     "start_time": "2023-04-15T03:12:32.185301Z"
    }
   },
   "outputs": [
    {
     "data": {
      "text/plain": [
       "(10, 1)"
      ]
     },
     "execution_count": 46,
     "metadata": {},
     "output_type": "execute_result"
    }
   ],
   "source": [
    "a[:, np.newaxis].shape"
   ]
  },
  {
   "cell_type": "code",
   "execution_count": 48,
   "id": "2abf2590",
   "metadata": {
    "ExecuteTime": {
     "end_time": "2023-04-15T03:12:42.800570Z",
     "start_time": "2023-04-15T03:12:42.778767Z"
    }
   },
   "outputs": [
    {
     "data": {
      "text/plain": [
       "(1, 10)"
      ]
     },
     "execution_count": 48,
     "metadata": {},
     "output_type": "execute_result"
    }
   ],
   "source": [
    "a[np.newaxis,:].shape"
   ]
  },
  {
   "cell_type": "code",
   "execution_count": 41,
   "id": "8a5e64e9",
   "metadata": {
    "ExecuteTime": {
     "end_time": "2023-04-15T03:08:58.381828Z",
     "start_time": "2023-04-15T03:08:58.365126Z"
    }
   },
   "outputs": [
    {
     "data": {
      "text/plain": [
       "array([[ 1,  2,  3,  4,  5],\n",
       "       [ 6,  7,  8,  9, 10],\n",
       "       [11, 12, 13, 14, 15],\n",
       "       [16, 17, 18, 19, 20],\n",
       "       [21, 22, 23, 24, 25]])"
      ]
     },
     "execution_count": 41,
     "metadata": {},
     "output_type": "execute_result"
    }
   ],
   "source": [
    "b=np.arange(1,26).reshape(-1,5)\n",
    "b[1,2]"
   ]
  },
  {
   "cell_type": "code",
   "execution_count": 52,
   "id": "f05a9971",
   "metadata": {
    "ExecuteTime": {
     "end_time": "2023-04-15T03:13:59.166292Z",
     "start_time": "2023-04-15T03:13:59.150063Z"
    }
   },
   "outputs": [
    {
     "data": {
      "text/plain": [
       "array([[ 1,  2,  3,  4,  5,  6,  7,  8,  9, 10],\n",
       "       [11, 12, 13, 14, 15, 16, 17, 18, 19, 20],\n",
       "       [21, 22, 23, 24, 25, 26, 27, 28, 29, 30],\n",
       "       [31, 32, 33, 34, 35, 36, 37, 38, 39, 40],\n",
       "       [41, 42, 43, 44, 45, 46, 47, 48, 49, 50]])"
      ]
     },
     "execution_count": 52,
     "metadata": {},
     "output_type": "execute_result"
    }
   ],
   "source": [
    "np.arange(1,51).reshape(5,10)"
   ]
  },
  {
   "cell_type": "code",
   "execution_count": 50,
   "id": "81224e87",
   "metadata": {
    "ExecuteTime": {
     "end_time": "2023-04-15T03:13:46.358638Z",
     "start_time": "2023-04-15T03:13:46.341798Z"
    }
   },
   "outputs": [
    {
     "data": {
      "text/plain": [
       "1275"
      ]
     },
     "execution_count": 50,
     "metadata": {},
     "output_type": "execute_result"
    }
   ],
   "source": [
    "np.sum(np.arange(1,51).reshape(5,10))"
   ]
  },
  {
   "cell_type": "code",
   "execution_count": 51,
   "id": "59784c19",
   "metadata": {
    "ExecuteTime": {
     "end_time": "2023-04-15T03:13:48.130962Z",
     "start_time": "2023-04-15T03:13:48.118648Z"
    }
   },
   "outputs": [
    {
     "data": {
      "text/plain": [
       "1275"
      ]
     },
     "execution_count": 51,
     "metadata": {},
     "output_type": "execute_result"
    }
   ],
   "source": [
    "np.arange(1,51).reshape(5,10).sum()"
   ]
  },
  {
   "cell_type": "code",
   "execution_count": 53,
   "id": "1d3a88a3",
   "metadata": {
    "ExecuteTime": {
     "end_time": "2023-04-15T03:14:24.920446Z",
     "start_time": "2023-04-15T03:14:24.901673Z"
    }
   },
   "outputs": [
    {
     "data": {
      "text/plain": [
       "array([105, 110, 115, 120, 125, 130, 135, 140, 145, 150])"
      ]
     },
     "execution_count": 53,
     "metadata": {},
     "output_type": "execute_result"
    }
   ],
   "source": [
    "np.arange(1,51).reshape(5,10).sum(axis=0)"
   ]
  },
  {
   "cell_type": "code",
   "execution_count": 54,
   "id": "dbc6d8a5",
   "metadata": {
    "ExecuteTime": {
     "end_time": "2023-04-15T03:14:40.252844Z",
     "start_time": "2023-04-15T03:14:40.233232Z"
    }
   },
   "outputs": [
    {
     "data": {
      "text/plain": [
       "array([ 55, 155, 255, 355, 455])"
      ]
     },
     "execution_count": 54,
     "metadata": {},
     "output_type": "execute_result"
    }
   ],
   "source": [
    "np.arange(1,51).reshape(5,10).sum(axis=1)"
   ]
  },
  {
   "cell_type": "code",
   "execution_count": 55,
   "id": "56b8aac6",
   "metadata": {
    "ExecuteTime": {
     "end_time": "2023-04-15T03:15:35.301727Z",
     "start_time": "2023-04-15T03:15:35.285016Z"
    }
   },
   "outputs": [
    {
     "data": {
      "text/plain": [
       "(2, 3, 4)"
      ]
     },
     "execution_count": 55,
     "metadata": {},
     "output_type": "execute_result"
    }
   ],
   "source": [
    "A = np.array([[[2,4,6,8],[7,6,3,4],[5,2,3,6]],\n",
    "              [[4,3,2,1],[4,3,7,6],[8,10,7,8]]])\n",
    "A.shape"
   ]
  },
  {
   "cell_type": "code",
   "execution_count": 56,
   "id": "ad07c89a",
   "metadata": {
    "ExecuteTime": {
     "end_time": "2023-04-15T03:15:36.704415Z",
     "start_time": "2023-04-15T03:15:36.689332Z"
    }
   },
   "outputs": [
    {
     "data": {
      "text/plain": [
       "array([[[ 2,  4,  6,  8],\n",
       "        [ 7,  6,  3,  4],\n",
       "        [ 5,  2,  3,  6]],\n",
       "\n",
       "       [[ 4,  3,  2,  1],\n",
       "        [ 4,  3,  7,  6],\n",
       "        [ 8, 10,  7,  8]]])"
      ]
     },
     "execution_count": 56,
     "metadata": {},
     "output_type": "execute_result"
    }
   ],
   "source": [
    "A"
   ]
  },
  {
   "cell_type": "code",
   "execution_count": 57,
   "id": "578b7380",
   "metadata": {
    "ExecuteTime": {
     "end_time": "2023-04-15T03:16:14.529128Z",
     "start_time": "2023-04-15T03:16:14.515082Z"
    }
   },
   "outputs": [
    {
     "data": {
      "text/plain": [
       "array([[ 6,  7,  8,  9],\n",
       "       [11,  9, 10, 10],\n",
       "       [13, 12, 10, 14]])"
      ]
     },
     "execution_count": 57,
     "metadata": {},
     "output_type": "execute_result"
    }
   ],
   "source": [
    "A.sum(axis=0)"
   ]
  },
  {
   "cell_type": "code",
   "execution_count": 58,
   "id": "81229a05",
   "metadata": {
    "ExecuteTime": {
     "end_time": "2023-04-15T03:16:19.687806Z",
     "start_time": "2023-04-15T03:16:19.675643Z"
    }
   },
   "outputs": [
    {
     "data": {
      "text/plain": [
       "array([[14, 12, 12, 18],\n",
       "       [16, 16, 16, 15]])"
      ]
     },
     "execution_count": 58,
     "metadata": {},
     "output_type": "execute_result"
    }
   ],
   "source": [
    "A.sum(axis=1)"
   ]
  },
  {
   "cell_type": "code",
   "execution_count": 59,
   "id": "2fe304ad",
   "metadata": {
    "ExecuteTime": {
     "end_time": "2023-04-15T03:16:25.182367Z",
     "start_time": "2023-04-15T03:16:25.164898Z"
    }
   },
   "outputs": [
    {
     "data": {
      "text/plain": [
       "array([[20, 20, 16],\n",
       "       [10, 20, 33]])"
      ]
     },
     "execution_count": 59,
     "metadata": {},
     "output_type": "execute_result"
    }
   ],
   "source": [
    "A.sum(axis=2)"
   ]
  },
  {
   "cell_type": "code",
   "execution_count": 60,
   "id": "aac42ad2",
   "metadata": {
    "ExecuteTime": {
     "end_time": "2023-04-15T03:22:12.364590Z",
     "start_time": "2023-04-15T03:22:12.355447Z"
    }
   },
   "outputs": [],
   "source": [
    "a = np.arange(1,10)"
   ]
  },
  {
   "cell_type": "code",
   "execution_count": 61,
   "id": "e590883a",
   "metadata": {
    "ExecuteTime": {
     "end_time": "2023-04-15T03:22:13.439866Z",
     "start_time": "2023-04-15T03:22:13.417141Z"
    }
   },
   "outputs": [
    {
     "data": {
      "text/plain": [
       "array([1, 2, 3, 4, 5, 6, 7, 8, 9])"
      ]
     },
     "execution_count": 61,
     "metadata": {},
     "output_type": "execute_result"
    }
   ],
   "source": [
    "a"
   ]
  },
  {
   "cell_type": "code",
   "execution_count": 63,
   "id": "060fb4b2",
   "metadata": {
    "ExecuteTime": {
     "end_time": "2023-04-15T03:22:29.373136Z",
     "start_time": "2023-04-15T03:22:29.354209Z"
    }
   },
   "outputs": [
    {
     "data": {
      "text/plain": [
       "(3, 7)"
      ]
     },
     "execution_count": 63,
     "metadata": {},
     "output_type": "execute_result"
    }
   ],
   "source": [
    "a[2], a[6]"
   ]
  },
  {
   "cell_type": "code",
   "execution_count": 67,
   "id": "de3f81a4",
   "metadata": {
    "ExecuteTime": {
     "end_time": "2023-04-15T03:23:08.701886Z",
     "start_time": "2023-04-15T03:23:08.684306Z"
    }
   },
   "outputs": [
    {
     "data": {
      "text/plain": [
       "array([3, 7])"
      ]
     },
     "execution_count": 67,
     "metadata": {},
     "output_type": "execute_result"
    }
   ],
   "source": [
    "a[[2,6]]"
   ]
  },
  {
   "cell_type": "code",
   "execution_count": 68,
   "id": "e69a138a",
   "metadata": {
    "ExecuteTime": {
     "end_time": "2023-04-15T03:23:15.056951Z",
     "start_time": "2023-04-15T03:23:15.045049Z"
    }
   },
   "outputs": [
    {
     "data": {
      "text/plain": [
       "array([[ 1,  2,  3,  4,  5],\n",
       "       [ 6,  7,  8,  9, 10],\n",
       "       [11, 12, 13, 14, 15],\n",
       "       [16, 17, 18, 19, 20],\n",
       "       [21, 22, 23, 24, 25]])"
      ]
     },
     "execution_count": 68,
     "metadata": {},
     "output_type": "execute_result"
    }
   ],
   "source": [
    "b = np.arange(1,26).reshape(5,5)\n",
    "b"
   ]
  },
  {
   "cell_type": "code",
   "execution_count": 70,
   "id": "8d6d88af",
   "metadata": {
    "ExecuteTime": {
     "end_time": "2023-04-15T03:23:37.427442Z",
     "start_time": "2023-04-15T03:23:37.415707Z"
    }
   },
   "outputs": [
    {
     "data": {
      "text/plain": [
       "(8, 19)"
      ]
     },
     "execution_count": 70,
     "metadata": {},
     "output_type": "execute_result"
    }
   ],
   "source": [
    "b[1,2], b[3, 3]"
   ]
  },
  {
   "cell_type": "code",
   "execution_count": 74,
   "id": "29e608ca",
   "metadata": {
    "ExecuteTime": {
     "end_time": "2023-04-15T03:26:03.918515Z",
     "start_time": "2023-04-15T03:26:03.908607Z"
    }
   },
   "outputs": [
    {
     "data": {
      "text/plain": [
       "array([ 8, 19])"
      ]
     },
     "execution_count": 74,
     "metadata": {},
     "output_type": "execute_result"
    }
   ],
   "source": [
    "b[[1,3], [2,3]]"
   ]
  },
  {
   "cell_type": "code",
   "execution_count": 75,
   "id": "c1585036",
   "metadata": {
    "ExecuteTime": {
     "end_time": "2023-04-15T03:26:36.721350Z",
     "start_time": "2023-04-15T03:26:36.698225Z"
    }
   },
   "outputs": [
    {
     "data": {
      "text/plain": [
       "array([[[ 2,  4,  6,  8],\n",
       "        [ 7,  6,  3,  4],\n",
       "        [ 5,  2,  3,  6]],\n",
       "\n",
       "       [[ 4,  3,  2,  1],\n",
       "        [ 4,  3,  7,  6],\n",
       "        [ 8, 10,  7,  8]]])"
      ]
     },
     "execution_count": 75,
     "metadata": {},
     "output_type": "execute_result"
    }
   ],
   "source": [
    "A = np.array([[[2,4,6,8],[7,6,3,4],[5,2,3,6]],\n",
    "              [[4,3,2,1],[4,3,7,6],[8,10,7,8]]])\n",
    "A"
   ]
  },
  {
   "cell_type": "code",
   "execution_count": 78,
   "id": "8e3d9015",
   "metadata": {
    "ExecuteTime": {
     "end_time": "2023-04-15T03:27:18.933238Z",
     "start_time": "2023-04-15T03:27:18.910264Z"
    }
   },
   "outputs": [
    {
     "data": {
      "text/plain": [
       "(7, 4, 8)"
      ]
     },
     "execution_count": 78,
     "metadata": {},
     "output_type": "execute_result"
    }
   ],
   "source": [
    "A[1, 1, 2], A[0, 1, 3], A[1, 2, 0]"
   ]
  },
  {
   "cell_type": "code",
   "execution_count": 79,
   "id": "6b36e258",
   "metadata": {
    "ExecuteTime": {
     "end_time": "2023-04-15T03:27:32.559955Z",
     "start_time": "2023-04-15T03:27:32.539383Z"
    }
   },
   "outputs": [
    {
     "data": {
      "text/plain": [
       "array([7, 4, 8])"
      ]
     },
     "execution_count": 79,
     "metadata": {},
     "output_type": "execute_result"
    }
   ],
   "source": [
    "A[[1,0,1], [1,1,2], [2,3,0]]"
   ]
  },
  {
   "cell_type": "code",
   "execution_count": 86,
   "id": "c904cd2b",
   "metadata": {
    "ExecuteTime": {
     "end_time": "2023-04-15T03:29:04.165656Z",
     "start_time": "2023-04-15T03:29:04.144039Z"
    }
   },
   "outputs": [
    {
     "data": {
      "text/plain": [
       "array('2023-04-17', dtype='datetime64[D]')"
      ]
     },
     "execution_count": 86,
     "metadata": {},
     "output_type": "execute_result"
    }
   ],
   "source": [
    "np.array(\"2023-04-17\", dtype=np.datetime64)"
   ]
  },
  {
   "cell_type": "code",
   "execution_count": 103,
   "id": "254750c2",
   "metadata": {
    "ExecuteTime": {
     "end_time": "2023-04-15T03:32:06.257041Z",
     "start_time": "2023-04-15T03:32:06.239709Z"
    }
   },
   "outputs": [
    {
     "data": {
      "text/plain": [
       "array(['2023-01', '2023-02', '2023-03'], dtype='datetime64[M]')"
      ]
     },
     "execution_count": 103,
     "metadata": {},
     "output_type": "execute_result"
    }
   ],
   "source": [
    "np.arange(\"2023-01-01\", \"2023-04-17\",dtype=\"datetime64[M]\")"
   ]
  },
  {
   "cell_type": "code",
   "execution_count": null,
   "id": "4d2e5864",
   "metadata": {},
   "outputs": [],
   "source": [
    "np.arange(\"2023-01-01\", \"2023-04-17\",dtype=\"datetime64[M]\")"
   ]
  },
  {
   "cell_type": "code",
   "execution_count": 104,
   "id": "7dd39996",
   "metadata": {
    "ExecuteTime": {
     "end_time": "2023-04-15T03:32:41.573899Z",
     "start_time": "2023-04-15T03:32:41.557505Z"
    }
   },
   "outputs": [
    {
     "data": {
      "text/plain": [
       "array([[ 1,  2,  3,  4,  5],\n",
       "       [ 6,  7,  8,  9, 10],\n",
       "       [11, 12, 13, 14, 15],\n",
       "       [16, 17, 18, 19, 20],\n",
       "       [21, 22, 23, 24, 25]])"
      ]
     },
     "execution_count": 104,
     "metadata": {},
     "output_type": "execute_result"
    }
   ],
   "source": [
    "a = np.arange(1,26).reshape(5,5)\n",
    "a"
   ]
  },
  {
   "cell_type": "code",
   "execution_count": 105,
   "id": "0961de42",
   "metadata": {
    "ExecuteTime": {
     "end_time": "2023-04-15T03:32:54.721052Z",
     "start_time": "2023-04-15T03:32:54.708602Z"
    },
    "scrolled": true
   },
   "outputs": [
    {
     "data": {
      "text/plain": [
       "array([ 1,  2,  3,  4,  5,  6,  7,  8,  9, 10, 11, 12, 13, 14, 15, 16, 17,\n",
       "       18, 19, 20, 21, 22, 23, 24, 25])"
      ]
     },
     "execution_count": 105,
     "metadata": {},
     "output_type": "execute_result"
    }
   ],
   "source": [
    "a.ravel()"
   ]
  },
  {
   "cell_type": "code",
   "execution_count": 108,
   "id": "8ff443f9",
   "metadata": {
    "ExecuteTime": {
     "end_time": "2023-04-15T03:35:18.320410Z",
     "start_time": "2023-04-15T03:35:18.307477Z"
    }
   },
   "outputs": [],
   "source": [
    "a = np.array([1,2,3,4,5])\n",
    "b = np.array([6,7,8,9,10])"
   ]
  },
  {
   "cell_type": "code",
   "execution_count": 113,
   "id": "09ed24a1",
   "metadata": {
    "ExecuteTime": {
     "end_time": "2023-04-15T03:36:16.084199Z",
     "start_time": "2023-04-15T03:36:16.067085Z"
    }
   },
   "outputs": [
    {
     "data": {
      "text/plain": [
       "array([ 1,  2,  3,  4,  5,  6,  7,  8,  9, 10])"
      ]
     },
     "execution_count": 113,
     "metadata": {},
     "output_type": "execute_result"
    }
   ],
   "source": [
    "np.hstack([a,b])"
   ]
  },
  {
   "cell_type": "code",
   "execution_count": 114,
   "id": "90cc1799",
   "metadata": {
    "ExecuteTime": {
     "end_time": "2023-04-15T03:36:16.301524Z",
     "start_time": "2023-04-15T03:36:16.284326Z"
    }
   },
   "outputs": [
    {
     "data": {
      "text/plain": [
       "array([[ 1,  2,  3,  4,  5],\n",
       "       [ 6,  7,  8,  9, 10]])"
      ]
     },
     "execution_count": 114,
     "metadata": {},
     "output_type": "execute_result"
    }
   ],
   "source": [
    "np.vstack([a,b])"
   ]
  },
  {
   "cell_type": "code",
   "execution_count": null,
   "id": "1e16bbfb",
   "metadata": {},
   "outputs": [],
   "source": []
  },
  {
   "cell_type": "code",
   "execution_count": null,
   "id": "84583080",
   "metadata": {},
   "outputs": [],
   "source": []
  },
  {
   "cell_type": "code",
   "execution_count": null,
   "id": "40328d4c",
   "metadata": {},
   "outputs": [],
   "source": []
  },
  {
   "cell_type": "code",
   "execution_count": 119,
   "id": "850bfe14",
   "metadata": {
    "ExecuteTime": {
     "end_time": "2023-04-15T03:37:22.578055Z",
     "start_time": "2023-04-15T03:37:22.571072Z"
    }
   },
   "outputs": [],
   "source": [
    "a = np.arange(1,11).reshape(2,5)\n",
    "b = np.arange(11,21).reshape(2,5)"
   ]
  },
  {
   "cell_type": "code",
   "execution_count": 120,
   "id": "a7c832a3",
   "metadata": {
    "ExecuteTime": {
     "end_time": "2023-04-15T03:37:25.803416Z",
     "start_time": "2023-04-15T03:37:25.787135Z"
    }
   },
   "outputs": [
    {
     "data": {
      "text/plain": [
       "array([[ 1,  2,  3,  4,  5],\n",
       "       [ 6,  7,  8,  9, 10]])"
      ]
     },
     "execution_count": 120,
     "metadata": {},
     "output_type": "execute_result"
    }
   ],
   "source": [
    "a"
   ]
  },
  {
   "cell_type": "code",
   "execution_count": 121,
   "id": "7ea23739",
   "metadata": {
    "ExecuteTime": {
     "end_time": "2023-04-15T03:37:28.431058Z",
     "start_time": "2023-04-15T03:37:28.414971Z"
    }
   },
   "outputs": [
    {
     "data": {
      "text/plain": [
       "array([[11, 12, 13, 14, 15],\n",
       "       [16, 17, 18, 19, 20]])"
      ]
     },
     "execution_count": 121,
     "metadata": {},
     "output_type": "execute_result"
    }
   ],
   "source": [
    "b"
   ]
  },
  {
   "cell_type": "code",
   "execution_count": 122,
   "id": "9410c720",
   "metadata": {
    "ExecuteTime": {
     "end_time": "2023-04-15T03:37:39.713803Z",
     "start_time": "2023-04-15T03:37:39.694367Z"
    }
   },
   "outputs": [
    {
     "data": {
      "text/plain": [
       "array([[ 1,  2,  3,  4,  5, 11, 12, 13, 14, 15],\n",
       "       [ 6,  7,  8,  9, 10, 16, 17, 18, 19, 20]])"
      ]
     },
     "execution_count": 122,
     "metadata": {},
     "output_type": "execute_result"
    }
   ],
   "source": [
    "np.c_[a,b]"
   ]
  },
  {
   "cell_type": "code",
   "execution_count": 123,
   "id": "41d435ce",
   "metadata": {
    "ExecuteTime": {
     "end_time": "2023-04-15T03:37:43.080754Z",
     "start_time": "2023-04-15T03:37:43.059017Z"
    }
   },
   "outputs": [
    {
     "data": {
      "text/plain": [
       "array([[ 1,  2,  3,  4,  5],\n",
       "       [ 6,  7,  8,  9, 10],\n",
       "       [11, 12, 13, 14, 15],\n",
       "       [16, 17, 18, 19, 20]])"
      ]
     },
     "execution_count": 123,
     "metadata": {},
     "output_type": "execute_result"
    }
   ],
   "source": [
    "np.r_[a,b]"
   ]
  },
  {
   "cell_type": "code",
   "execution_count": 124,
   "id": "3f372993",
   "metadata": {
    "ExecuteTime": {
     "end_time": "2023-04-15T03:38:12.195696Z",
     "start_time": "2023-04-15T03:38:12.182337Z"
    }
   },
   "outputs": [
    {
     "data": {
      "text/plain": [
       "array([[ 1,  2,  3,  4,  5, 11, 12, 13, 14, 15],\n",
       "       [ 6,  7,  8,  9, 10, 16, 17, 18, 19, 20]])"
      ]
     },
     "execution_count": 124,
     "metadata": {},
     "output_type": "execute_result"
    }
   ],
   "source": [
    "np.hstack([a,b])"
   ]
  },
  {
   "cell_type": "code",
   "execution_count": 125,
   "id": "b0bad7de",
   "metadata": {
    "ExecuteTime": {
     "end_time": "2023-04-15T03:38:23.104958Z",
     "start_time": "2023-04-15T03:38:23.083998Z"
    }
   },
   "outputs": [
    {
     "data": {
      "text/plain": [
       "array([[ 1,  2,  3,  4,  5],\n",
       "       [ 6,  7,  8,  9, 10],\n",
       "       [11, 12, 13, 14, 15],\n",
       "       [16, 17, 18, 19, 20]])"
      ]
     },
     "execution_count": 125,
     "metadata": {},
     "output_type": "execute_result"
    }
   ],
   "source": [
    "np.vstack([a,b])"
   ]
  },
  {
   "cell_type": "code",
   "execution_count": 129,
   "id": "010e723e",
   "metadata": {
    "ExecuteTime": {
     "end_time": "2023-04-15T03:39:28.445176Z",
     "start_time": "2023-04-15T03:39:28.433631Z"
    }
   },
   "outputs": [
    {
     "data": {
      "text/plain": [
       "array([[ 1,  2,  3,  4,  5],\n",
       "       [ 6,  7,  8,  9, 10]])"
      ]
     },
     "execution_count": 129,
     "metadata": {},
     "output_type": "execute_result"
    }
   ],
   "source": [
    "a"
   ]
  },
  {
   "cell_type": "code",
   "execution_count": 128,
   "id": "55a79713",
   "metadata": {
    "ExecuteTime": {
     "end_time": "2023-04-15T03:39:09.174790Z",
     "start_time": "2023-04-15T03:39:09.157868Z"
    }
   },
   "outputs": [
    {
     "data": {
      "text/plain": [
       "array([ 3,  4,  5,  6,  7,  8,  9, 10])"
      ]
     },
     "execution_count": 128,
     "metadata": {},
     "output_type": "execute_result"
    }
   ],
   "source": [
    "a[a >= 3]"
   ]
  },
  {
   "cell_type": "code",
   "execution_count": 130,
   "id": "5c43430d",
   "metadata": {
    "ExecuteTime": {
     "end_time": "2023-04-15T03:39:59.313037Z",
     "start_time": "2023-04-15T03:39:59.290576Z"
    }
   },
   "outputs": [
    {
     "data": {
      "text/plain": [
       "array([[57, 41, 93, 86],\n",
       "       [53, 76, 29, 33],\n",
       "       [55, 26, 32,  5]])"
      ]
     },
     "execution_count": 130,
     "metadata": {},
     "output_type": "execute_result"
    }
   ],
   "source": [
    "x = np.arange(1,101)\n",
    "\n",
    "np.random.choice(x, size = (3,4))"
   ]
  },
  {
   "cell_type": "code",
   "execution_count": null,
   "id": "952baf1e",
   "metadata": {},
   "outputs": [],
   "source": []
  }
 ],
 "metadata": {
  "hide_input": false,
  "kernelspec": {
   "display_name": "Python 3 (ipykernel)",
   "language": "python",
   "name": "python3"
  },
  "language_info": {
   "codemirror_mode": {
    "name": "ipython",
    "version": 3
   },
   "file_extension": ".py",
   "mimetype": "text/x-python",
   "name": "python",
   "nbconvert_exporter": "python",
   "pygments_lexer": "ipython3",
   "version": "3.9.13"
  },
  "toc": {
   "base_numbering": 1,
   "nav_menu": {},
   "number_sections": true,
   "sideBar": true,
   "skip_h1_title": false,
   "title_cell": "Table of Contents",
   "title_sidebar": "Contents",
   "toc_cell": false,
   "toc_position": {},
   "toc_section_display": true,
   "toc_window_display": false
  }
 },
 "nbformat": 4,
 "nbformat_minor": 5
}
